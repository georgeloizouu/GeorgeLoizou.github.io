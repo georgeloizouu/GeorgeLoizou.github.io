{
  "nbformat": 4,
  "nbformat_minor": 0,
  "metadata": {
    "colab": {
      "name": "Week5Homework",
      "provenance": [],
      "collapsed_sections": [],
      "authorship_tag": "ABX9TyMBx1RnYvPwrW5Ubl0gCUV4",
      "include_colab_link": true
    },
    "kernelspec": {
      "name": "python3",
      "display_name": "Python 3"
    },
    "language_info": {
      "name": "python"
    }
  },
  "cells": [
    {
      "cell_type": "markdown",
      "metadata": {
        "id": "view-in-github",
        "colab_type": "text"
      },
      "source": [
        "<a href=\"https://colab.research.google.com/github/georgeloizouu/GeorgeLoizou.github.io/blob/main/Week5Homework.ipynb\" target=\"_parent\"><img src=\"https://colab.research.google.com/assets/colab-badge.svg\" alt=\"Open In Colab\"/></a>"
      ]
    },
    {
      "cell_type": "code",
      "source": [
        "import requests\n",
        "import os\n",
        "import json\n",
        "from google.colab import files"
      ],
      "metadata": {
        "id": "HzxBY6AA9QkZ"
      },
      "execution_count": 1,
      "outputs": []
    },
    {
      "cell_type": "code",
      "source": [
        "url_base = \"https://api.stlouisfed.org/fred/series/observations?series_id={}&api_key=22ee7a76e736e32f54f5df0a7171538d&file_type=json\"\n",
        "\n",
        "file_base = \"data_FRED-{}.json\"\n",
        "\n",
        "fredSeries = ['PCEPI','DGS10', 'INDPRO', 'UNRATE']\n",
        "\n",
        "for i in fredSeries:  \n",
        "\n",
        "\n",
        "   print(i) \n",
        "  \n",
        "\n",
        "   URL = url_base.format(i)\n",
        "   print(URL)\n",
        "   \n",
        "\n",
        "   data = requests.get(URL).json()\n",
        "   print(data)\n",
        "\n",
        "   # // Filename:\n",
        "   fileName = file_base.format(i)\n",
        "   print(fileName)\n",
        "   with open(fileName, 'w', encoding='utf-8') as f:\n",
        "     json.dump(data, f, ensure_ascii=False, indent=4)\n",
        "   files.download(fileName)"
      ],
      "metadata": {
        "id": "0nB8sXvW9TcO"
      },
      "execution_count": null,
      "outputs": []
    }
  ]
}