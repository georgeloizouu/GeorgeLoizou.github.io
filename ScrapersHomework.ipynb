{
  "nbformat": 4,
  "nbformat_minor": 0,
  "metadata": {
    "colab": {
      "name": "ScrapersHomework.ipynb",
      "provenance": [],
      "collapsed_sections": [],
      "include_colab_link": true
    },
    "kernelspec": {
      "name": "python3",
      "display_name": "Python 3"
    },
    "language_info": {
      "name": "python"
    }
  },
  "cells": [
    {
      "cell_type": "markdown",
      "metadata": {
        "id": "view-in-github",
        "colab_type": "text"
      },
      "source": [
        "<a href=\"https://colab.research.google.com/github/georgeloizouu/GeorgeLoizou.github.io/blob/main/ScrapersHomework.ipynb\" target=\"_parent\"><img src=\"https://colab.research.google.com/assets/colab-badge.svg\" alt=\"Open In Colab\"/></a>"
      ]
    },
    {
      "cell_type": "code",
      "metadata": {
        "id": "UR0P1I6h3kSJ"
      },
      "source": [
        "url='https://www.beautifullife.info/automotive-design/top-10-most-expensive-cars-in-the-world/'"
      ],
      "execution_count": null,
      "outputs": []
    },
    {
      "cell_type": "code",
      "metadata": {
        "id": "cw7x5GsSJT-O"
      },
      "source": [
        "import requests\n",
        "import pandas as pd\n",
        "from bs4 import BeautifulSoup"
      ],
      "execution_count": null,
      "outputs": []
    },
    {
      "cell_type": "code",
      "metadata": {
        "id": "y8WsnsE9I_TS"
      },
      "source": [
        "html = requests.get(url)\n",
        "soup = BeautifulSoup(html.content, 'html.parser')"
      ],
      "execution_count": null,
      "outputs": []
    },
    {
      "cell_type": "code",
      "metadata": {
        "id": "tH0mn81NJOrX",
        "colab": {
          "base_uri": "https://localhost:8080/"
        },
        "outputId": "1d3ef3aa-5ba5-4a84-ec04-48f9fb62e652"
      },
      "source": [
        "soup.findAll('td',class_=\"white-td green-td\")"
      ],
      "execution_count": null,
      "outputs": [
        {
          "output_type": "execute_result",
          "data": {
            "text/plain": [
              "[<td class=\"white-td green-td\" width=\"16.66%\"><strong style=\"color: #bb0017!important\">$19 million</strong></td>,\n",
              " <td class=\"white-td green-td\" width=\"16.66%\"><strong>$13 million</strong></td>,\n",
              " <td class=\"white-td green-td\" width=\"16.66%\"><strong>$8 million</strong></td>,\n",
              " <td class=\"white-td green-td\" width=\"16.66%\"><strong>$5.4 million</strong></td>,\n",
              " <td class=\"white-td green-td\" width=\"16.66%\"><strong>$3,6 million</strong></td>,\n",
              " <td class=\"white-td green-td\" width=\"16.66%\"><strong>$3,4 million</strong></td>,\n",
              " <td class=\"white-td green-td\" width=\"16.66%\"><strong>$2,8 million</strong></td>]"
            ]
          },
          "metadata": {},
          "execution_count": 39
        }
      ]
    },
    {
      "cell_type": "code",
      "metadata": {
        "id": "j2xncvK6J6Qp"
      },
      "source": [
        "values=soup.findAll('td',class_=\"white-td green-td\")\n",
        "# table.findAll('p',{'class':'lead'})"
      ],
      "execution_count": null,
      "outputs": []
    },
    {
      "cell_type": "code",
      "metadata": {
        "colab": {
          "base_uri": "https://localhost:8080/"
        },
        "id": "uri6SENLWTfK",
        "outputId": "d63c334b-b1a8-40b4-f590-cbbf30cc4ccf"
      },
      "source": [
        "values"
      ],
      "execution_count": null,
      "outputs": [
        {
          "output_type": "execute_result",
          "data": {
            "text/plain": [
              "[<td class=\"white-td green-td\" width=\"16.66%\"><strong style=\"color: #bb0017!important\">$19 million</strong></td>,\n",
              " <td class=\"white-td green-td\" width=\"16.66%\"><strong>$13 million</strong></td>,\n",
              " <td class=\"white-td green-td\" width=\"16.66%\"><strong>$8 million</strong></td>,\n",
              " <td class=\"white-td green-td\" width=\"16.66%\"><strong>$5.4 million</strong></td>,\n",
              " <td class=\"white-td green-td\" width=\"16.66%\"><strong>$3,6 million</strong></td>,\n",
              " <td class=\"white-td green-td\" width=\"16.66%\"><strong>$3,4 million</strong></td>,\n",
              " <td class=\"white-td green-td\" width=\"16.66%\"><strong>$2,8 million</strong></td>]"
            ]
          },
          "metadata": {},
          "execution_count": 98
        }
      ]
    },
    {
      "cell_type": "code",
      "metadata": {
        "id": "hA0Nv4k8Kyn-"
      },
      "source": [
        "values_list=[i.text.replace ('$','').replace(',','.').replace('million','') for i in values]"
      ],
      "execution_count": null,
      "outputs": []
    },
    {
      "cell_type": "code",
      "metadata": {
        "colab": {
          "base_uri": "https://localhost:8080/"
        },
        "id": "XIMRda3Gi7bm",
        "outputId": "0bf4fa0f-0b26-408e-da3b-4b344181e589"
      },
      "source": [
        "values_list"
      ],
      "execution_count": null,
      "outputs": [
        {
          "output_type": "execute_result",
          "data": {
            "text/plain": [
              "['19 ', '13 ', '8 ', '5.4 ', '3.6 ', '3.4 ', '2.8 ']"
            ]
          },
          "metadata": {},
          "execution_count": 60
        }
      ]
    },
    {
      "cell_type": "code",
      "metadata": {
        "id": "De4toFEej3_j"
      },
      "source": [
        "headings=soup.findAll('td',class_='white-td')"
      ],
      "execution_count": null,
      "outputs": []
    },
    {
      "cell_type": "code",
      "metadata": {
        "colab": {
          "base_uri": "https://localhost:8080/"
        },
        "id": "bQ8YsTQ3wzga",
        "outputId": "b5814579-8540-4f62-dd3a-baca19fde484"
      },
      "source": [
        "headings"
      ],
      "execution_count": null,
      "outputs": [
        {
          "output_type": "execute_result",
          "data": {
            "text/plain": [
              "[<td class=\"white-td\" width=\"16.66%\"><img alt=\"Bugatti La Voiture Noire\" class=\"alignnone size-full wp-image-25024\" data-lazy-src=\"https://www.beautifullife.info/wp-content/uploads/2020/03/04/00_bugatti_la_voiture_noir.jpg\" height=\"81\" loading=\"lazy\" src=\"data:image/svg+xml,%3Csvg%20xmlns='http://www.w3.org/2000/svg'%20viewBox='0%200%20160%2081'%3E%3C/svg%3E\" title=\"Bugatti La Voiture Noire\" width=\"160\"/><noscript><img alt=\"Bugatti La Voiture Noire\" class=\"alignnone size-full wp-image-25024\" height=\"81\" loading=\"lazy\" src=\"https://www.beautifullife.info/wp-content/uploads/2020/03/04/00_bugatti_la_voiture_noir.jpg\" title=\"Bugatti La Voiture Noire\" width=\"160\"/></noscript> <strong>Bugatti La Voiture Noire</strong></td>,\n",
              " <td class=\"white-td\" width=\"16.66%\"><strong>2019</strong></td>,\n",
              " <td class=\"white-td\" width=\"16.66%\"><strong>8.0 L W16</strong></td>,\n",
              " <td class=\"white-td\" width=\"16.66%\"><strong>1500 hp</strong></td>,\n",
              " <td class=\"white-td pad-5px\" width=\"16.66%\"><strong style=\"color: #bb0017\">261 mph</strong></td>,\n",
              " <td class=\"white-td green-td\" width=\"16.66%\"><strong style=\"color: #bb0017!important\">$19 million</strong></td>,\n",
              " <td class=\"white-td\" width=\"16.66%\"><img alt=\"Rolls Royce Sweptails\" class=\"alignnone size-full wp-image-25024\" data-lazy-src=\"https://www.beautifullife.info/wp-content/uploads/2020/03/04/02_rolls_royce_sweptails.jpg\" height=\"81\" loading=\"lazy\" src=\"data:image/svg+xml,%3Csvg%20xmlns='http://www.w3.org/2000/svg'%20viewBox='0%200%20160%2081'%3E%3C/svg%3E\" title=\"Rolls Royce Sweptails\" width=\"160\"/><noscript><img alt=\"Rolls Royce Sweptails\" class=\"alignnone size-full wp-image-25024\" height=\"81\" loading=\"lazy\" src=\"https://www.beautifullife.info/wp-content/uploads/2020/03/04/02_rolls_royce_sweptails.jpg\" title=\"Rolls Royce Sweptails\" width=\"160\"/></noscript> <strong>Rolls Royce Sweptails</strong></td>,\n",
              " <td class=\"white-td\" width=\"16.66%\"><strong>2017</strong></td>,\n",
              " <td class=\"white-td\" width=\"16.66%\"><strong>6.75L V12</strong></td>,\n",
              " <td class=\"white-td\" width=\"16.66%\"><strong>453 hp</strong></td>,\n",
              " <td class=\"white-td pad-5px\" width=\"16.66%\"><strong>150 mph</strong></td>,\n",
              " <td class=\"white-td green-td\" width=\"16.66%\"><strong>$13 million</strong></td>,\n",
              " <td class=\"white-td\" width=\"16.66%\"><img alt=\"Mercedes-Maybach Exelero\" class=\"alignnone size-full wp-image-25024\" data-lazy-src=\"https://www.beautifullife.info/wp-content/uploads/2020/03/04/05_mercedes_maybach_exelero.jpg\" height=\"81\" loading=\"lazy\" src=\"data:image/svg+xml,%3Csvg%20xmlns='http://www.w3.org/2000/svg'%20viewBox='0%200%20160%2081'%3E%3C/svg%3E\" title=\"Mercedes-Maybach Exelero\" width=\"160\"/><noscript><img alt=\"Mercedes-Maybach Exelero\" class=\"alignnone size-full wp-image-25024\" height=\"81\" loading=\"lazy\" src=\"https://www.beautifullife.info/wp-content/uploads/2020/03/04/05_mercedes_maybach_exelero.jpg\" title=\"Mercedes-Maybach Exelero\" width=\"160\"/></noscript> <strong>Mercedes-Maybach Exelero</strong></td>,\n",
              " <td class=\"white-td\" width=\"16.66%\"><strong>2005</strong></td>,\n",
              " <td class=\"white-td\" width=\"16.66%\"><strong>5.5L Twin-Turbo V12</strong></td>,\n",
              " <td class=\"white-td\" width=\"16.66%\"><strong>550 hp</strong></td>,\n",
              " <td class=\"white-td pad-5px\" width=\"16.66%\"><strong>217 mph</strong></td>,\n",
              " <td class=\"white-td green-td\" width=\"16.66%\"><strong>$8 million</strong></td>,\n",
              " <td class=\"white-td\" width=\"16.66%\"><img alt=\"Pagani Huayra Imola\" class=\"alignnone size-full wp-image-25024\" data-lazy-src=\"https://www.beautifullife.info/wp-content/uploads/2020/03/04/07_pagani_huyara_imola.jpg\" height=\"81\" loading=\"lazy\" src=\"data:image/svg+xml,%3Csvg%20xmlns='http://www.w3.org/2000/svg'%20viewBox='0%200%20160%2081'%3E%3C/svg%3E\" title=\"Pagani Huayra Imola\" width=\"160\"/><noscript><img alt=\"Pagani Huayra Imola\" class=\"alignnone size-full wp-image-25024\" height=\"81\" loading=\"lazy\" src=\"https://www.beautifullife.info/wp-content/uploads/2020/03/04/07_pagani_huyara_imola.jpg\" title=\"Pagani Huayra Imola\" width=\"160\"/></noscript> <strong>Pagani Huayra Imola</strong></td>,\n",
              " <td class=\"white-td\" width=\"16.66%\"><strong>2019</strong></td>,\n",
              " <td class=\"white-td\" width=\"16.66%\"><strong>6.0L V12</strong></td>,\n",
              " <td class=\"white-td\" width=\"16.66%\"><strong>827 hp</strong></td>,\n",
              " <td class=\"white-td pad-5px\" width=\"16.66%\"><strong>238 mph</strong></td>,\n",
              " <td class=\"white-td green-td\" width=\"16.66%\"><strong>$5.4 million</strong></td>,\n",
              " <td class=\"white-td\" width=\"16.66%\"><img alt=\"McLaren P1 LM\" class=\"alignnone size-full wp-image-25024\" data-lazy-src=\"https://www.beautifullife.info/wp-content/uploads/2020/03/04/05_mclaren_p1_lm.jpg\" height=\"81\" loading=\"lazy\" src=\"data:image/svg+xml,%3Csvg%20xmlns='http://www.w3.org/2000/svg'%20viewBox='0%200%20160%2081'%3E%3C/svg%3E\" title=\"McLaren P1 LM\" width=\"160\"/><noscript><img alt=\"McLaren P1 LM\" class=\"alignnone size-full wp-image-25024\" height=\"81\" loading=\"lazy\" src=\"https://www.beautifullife.info/wp-content/uploads/2020/03/04/05_mclaren_p1_lm.jpg\" title=\"McLaren P1 LM\" width=\"160\"/></noscript> <strong>McLaren P1 LM</strong></td>,\n",
              " <td class=\"white-td\" width=\"16.66%\"><strong>2013</strong></td>,\n",
              " <td class=\"white-td\" width=\"16.66%\"><strong>3.8L twin-turbocharged M838TQ V8</strong></td>,\n",
              " <td class=\"white-td\" width=\"16.66%\"><strong>1000 hp</strong></td>,\n",
              " <td class=\"white-td pad-5px\" width=\"16.66%\"><strong>147 mph</strong></td>,\n",
              " <td class=\"white-td green-td\" width=\"16.66%\"><strong>$3,6 million</strong></td>,\n",
              " <td class=\"white-td\" width=\"16.66%\"><img alt=\"Bugatti Veyron Mansory Vivere\" class=\"alignnone size-full wp-image-25024\" data-lazy-src=\"https://www.beautifullife.info/wp-content/uploads/2020/03/04/07_bugatti_veyron_mansory_vivere.jpg\" height=\"81\" loading=\"lazy\" src=\"data:image/svg+xml,%3Csvg%20xmlns='http://www.w3.org/2000/svg'%20viewBox='0%200%20160%2081'%3E%3C/svg%3E\" title=\"Bugatti Veyron Mansory Vivere\" width=\"160\"/><noscript><img alt=\"Bugatti Veyron Mansory Vivere\" class=\"alignnone size-full wp-image-25024\" height=\"81\" loading=\"lazy\" src=\"https://www.beautifullife.info/wp-content/uploads/2020/03/04/07_bugatti_veyron_mansory_vivere.jpg\" title=\"Bugatti Veyron Mansory Vivere\" width=\"160\"/></noscript> <strong>Bugatti Veyron Mansory Vivere</strong></td>,\n",
              " <td class=\"white-td\" width=\"16.66%\"><strong>2005</strong></td>,\n",
              " <td class=\"white-td\" width=\"16.66%\"><strong>8.0L</strong></td>,\n",
              " <td class=\"white-td\" width=\"16.66%\"><strong>1200 hp</strong></td>,\n",
              " <td class=\"white-td pad-5px\" width=\"16.66%\"><strong>253 mph</strong></td>,\n",
              " <td class=\"white-td green-td\" width=\"16.66%\"><strong>$3,4 million</strong></td>,\n",
              " <td class=\"white-td\" width=\"16.66%\"><img alt=\"Pagani Huayra\" class=\"alignnone size-full wp-image-25024\" data-lazy-src=\"https://www.beautifullife.info/wp-content/uploads/2020/03/04/10_pagani_huayra.jpg\" height=\"81\" loading=\"lazy\" src=\"data:image/svg+xml,%3Csvg%20xmlns='http://www.w3.org/2000/svg'%20viewBox='0%200%20160%2081'%3E%3C/svg%3E\" title=\"Pagani Huayra\" width=\"160\"/><noscript><img alt=\"Pagani Huayra\" class=\"alignnone size-full wp-image-25024\" height=\"81\" loading=\"lazy\" src=\"https://www.beautifullife.info/wp-content/uploads/2020/03/04/10_pagani_huayra.jpg\" title=\"Pagani Huayra\" width=\"160\"/></noscript> <strong>Pagani Huayra</strong></td>,\n",
              " <td class=\"white-td\" width=\"16.66%\"><strong>2012</strong></td>,\n",
              " <td class=\"white-td\" width=\"16.66%\"><strong>370 cu in (6.0L) AMG bi-turbo M158 V12</strong></td>,\n",
              " <td class=\"white-td\" width=\"16.66%\"><strong>790 hp</strong></td>,\n",
              " <td class=\"white-td pad-5px\" width=\"16.66%\"><strong>230 mph</strong></td>,\n",
              " <td class=\"white-td green-td\" width=\"16.66%\"><strong>$2,8 million</strong></td>]"
            ]
          },
          "metadata": {},
          "execution_count": 69
        }
      ]
    },
    {
      "cell_type": "code",
      "metadata": {
        "id": "7DvMcT-AxDte"
      },
      "source": [
        "data_list=[i.text.replace(',','.').replace('million','').replace('$','') for i in headings]"
      ],
      "execution_count": null,
      "outputs": []
    },
    {
      "cell_type": "code",
      "metadata": {
        "colab": {
          "base_uri": "https://localhost:8080/"
        },
        "id": "6SB5thdSyk-E",
        "outputId": "85f27842-af07-493f-e683-9a0fa7e18f5b"
      },
      "source": [
        "data_list"
      ],
      "execution_count": null,
      "outputs": [
        {
          "output_type": "execute_result",
          "data": {
            "text/plain": [
              "[' Bugatti La Voiture Noire',\n",
              " '2019',\n",
              " '8.0 L W16',\n",
              " '1500 hp',\n",
              " '261 mph',\n",
              " '19 ',\n",
              " ' Rolls Royce Sweptails',\n",
              " '2017',\n",
              " '6.75L V12',\n",
              " '453 hp',\n",
              " '150 mph',\n",
              " '13 ',\n",
              " ' Mercedes-Maybach Exelero',\n",
              " '2005',\n",
              " '5.5L Twin-Turbo V12',\n",
              " '550 hp',\n",
              " '217 mph',\n",
              " '8 ',\n",
              " ' Pagani Huayra Imola',\n",
              " '2019',\n",
              " '6.0L V12',\n",
              " '827 hp',\n",
              " '238 mph',\n",
              " '5.4 ',\n",
              " ' McLaren P1 LM',\n",
              " '2013',\n",
              " '3.8L twin-turbocharged M838TQ V8',\n",
              " '1000 hp',\n",
              " '147 mph',\n",
              " '3.6 ',\n",
              " ' Bugatti Veyron Mansory Vivere',\n",
              " '2005',\n",
              " '8.0L',\n",
              " '1200 hp',\n",
              " '253 mph',\n",
              " '3.4 ',\n",
              " ' Pagani Huayra',\n",
              " '2012',\n",
              " '370 cu in (6.0L) AMG bi-turbo M158 V12',\n",
              " '790 hp',\n",
              " '230 mph',\n",
              " '2.8 ']"
            ]
          },
          "metadata": {},
          "execution_count": 113
        }
      ]
    },
    {
      "cell_type": "code",
      "metadata": {
        "id": "qLLQyNkELDPX"
      },
      "source": [
        "df1=pd.DataFrame([data_list]).T"
      ],
      "execution_count": null,
      "outputs": []
    },
    {
      "cell_type": "code",
      "metadata": {
        "colab": {
          "base_uri": "https://localhost:8080/",
          "height": 1000
        },
        "id": "JT05HP2n1w1h",
        "outputId": "00514e22-55f0-47e8-e1aa-334587e56b73"
      },
      "source": [
        "df1"
      ],
      "execution_count": null,
      "outputs": [
        {
          "output_type": "execute_result",
          "data": {
            "text/html": [
              "<div>\n",
              "<style scoped>\n",
              "    .dataframe tbody tr th:only-of-type {\n",
              "        vertical-align: middle;\n",
              "    }\n",
              "\n",
              "    .dataframe tbody tr th {\n",
              "        vertical-align: top;\n",
              "    }\n",
              "\n",
              "    .dataframe thead th {\n",
              "        text-align: right;\n",
              "    }\n",
              "</style>\n",
              "<table border=\"1\" class=\"dataframe\">\n",
              "  <thead>\n",
              "    <tr style=\"text-align: right;\">\n",
              "      <th></th>\n",
              "      <th>0</th>\n",
              "    </tr>\n",
              "  </thead>\n",
              "  <tbody>\n",
              "    <tr>\n",
              "      <th>0</th>\n",
              "      <td>Bugatti La Voiture Noire</td>\n",
              "    </tr>\n",
              "    <tr>\n",
              "      <th>1</th>\n",
              "      <td>2019</td>\n",
              "    </tr>\n",
              "    <tr>\n",
              "      <th>2</th>\n",
              "      <td>8.0 L W16</td>\n",
              "    </tr>\n",
              "    <tr>\n",
              "      <th>3</th>\n",
              "      <td>1500 hp</td>\n",
              "    </tr>\n",
              "    <tr>\n",
              "      <th>4</th>\n",
              "      <td>261 mph</td>\n",
              "    </tr>\n",
              "    <tr>\n",
              "      <th>5</th>\n",
              "      <td>19</td>\n",
              "    </tr>\n",
              "    <tr>\n",
              "      <th>6</th>\n",
              "      <td>Rolls Royce Sweptails</td>\n",
              "    </tr>\n",
              "    <tr>\n",
              "      <th>7</th>\n",
              "      <td>2017</td>\n",
              "    </tr>\n",
              "    <tr>\n",
              "      <th>8</th>\n",
              "      <td>6.75L V12</td>\n",
              "    </tr>\n",
              "    <tr>\n",
              "      <th>9</th>\n",
              "      <td>453 hp</td>\n",
              "    </tr>\n",
              "    <tr>\n",
              "      <th>10</th>\n",
              "      <td>150 mph</td>\n",
              "    </tr>\n",
              "    <tr>\n",
              "      <th>11</th>\n",
              "      <td>13</td>\n",
              "    </tr>\n",
              "    <tr>\n",
              "      <th>12</th>\n",
              "      <td>Mercedes-Maybach Exelero</td>\n",
              "    </tr>\n",
              "    <tr>\n",
              "      <th>13</th>\n",
              "      <td>2005</td>\n",
              "    </tr>\n",
              "    <tr>\n",
              "      <th>14</th>\n",
              "      <td>5.5L Twin-Turbo V12</td>\n",
              "    </tr>\n",
              "    <tr>\n",
              "      <th>15</th>\n",
              "      <td>550 hp</td>\n",
              "    </tr>\n",
              "    <tr>\n",
              "      <th>16</th>\n",
              "      <td>217 mph</td>\n",
              "    </tr>\n",
              "    <tr>\n",
              "      <th>17</th>\n",
              "      <td>8</td>\n",
              "    </tr>\n",
              "    <tr>\n",
              "      <th>18</th>\n",
              "      <td>Pagani Huayra Imola</td>\n",
              "    </tr>\n",
              "    <tr>\n",
              "      <th>19</th>\n",
              "      <td>2019</td>\n",
              "    </tr>\n",
              "    <tr>\n",
              "      <th>20</th>\n",
              "      <td>6.0L V12</td>\n",
              "    </tr>\n",
              "    <tr>\n",
              "      <th>21</th>\n",
              "      <td>827 hp</td>\n",
              "    </tr>\n",
              "    <tr>\n",
              "      <th>22</th>\n",
              "      <td>238 mph</td>\n",
              "    </tr>\n",
              "    <tr>\n",
              "      <th>23</th>\n",
              "      <td>5.4</td>\n",
              "    </tr>\n",
              "    <tr>\n",
              "      <th>24</th>\n",
              "      <td>McLaren P1 LM</td>\n",
              "    </tr>\n",
              "    <tr>\n",
              "      <th>25</th>\n",
              "      <td>2013</td>\n",
              "    </tr>\n",
              "    <tr>\n",
              "      <th>26</th>\n",
              "      <td>3.8L twin-turbocharged M838TQ V8</td>\n",
              "    </tr>\n",
              "    <tr>\n",
              "      <th>27</th>\n",
              "      <td>1000 hp</td>\n",
              "    </tr>\n",
              "    <tr>\n",
              "      <th>28</th>\n",
              "      <td>147 mph</td>\n",
              "    </tr>\n",
              "    <tr>\n",
              "      <th>29</th>\n",
              "      <td>3.6</td>\n",
              "    </tr>\n",
              "    <tr>\n",
              "      <th>30</th>\n",
              "      <td>Bugatti Veyron Mansory Vivere</td>\n",
              "    </tr>\n",
              "    <tr>\n",
              "      <th>31</th>\n",
              "      <td>2005</td>\n",
              "    </tr>\n",
              "    <tr>\n",
              "      <th>32</th>\n",
              "      <td>8.0L</td>\n",
              "    </tr>\n",
              "    <tr>\n",
              "      <th>33</th>\n",
              "      <td>1200 hp</td>\n",
              "    </tr>\n",
              "    <tr>\n",
              "      <th>34</th>\n",
              "      <td>253 mph</td>\n",
              "    </tr>\n",
              "    <tr>\n",
              "      <th>35</th>\n",
              "      <td>3.4</td>\n",
              "    </tr>\n",
              "    <tr>\n",
              "      <th>36</th>\n",
              "      <td>Pagani Huayra</td>\n",
              "    </tr>\n",
              "    <tr>\n",
              "      <th>37</th>\n",
              "      <td>2012</td>\n",
              "    </tr>\n",
              "    <tr>\n",
              "      <th>38</th>\n",
              "      <td>370 cu in (6.0L) AMG bi-turbo M158 V12</td>\n",
              "    </tr>\n",
              "    <tr>\n",
              "      <th>39</th>\n",
              "      <td>790 hp</td>\n",
              "    </tr>\n",
              "    <tr>\n",
              "      <th>40</th>\n",
              "      <td>230 mph</td>\n",
              "    </tr>\n",
              "    <tr>\n",
              "      <th>41</th>\n",
              "      <td>2.8</td>\n",
              "    </tr>\n",
              "  </tbody>\n",
              "</table>\n",
              "</div>"
            ],
            "text/plain": [
              "                                         0\n",
              "0                 Bugatti La Voiture Noire\n",
              "1                                     2019\n",
              "2                                8.0 L W16\n",
              "3                                  1500 hp\n",
              "4                                  261 mph\n",
              "5                                      19 \n",
              "6                    Rolls Royce Sweptails\n",
              "7                                     2017\n",
              "8                                6.75L V12\n",
              "9                                   453 hp\n",
              "10                                 150 mph\n",
              "11                                     13 \n",
              "12                Mercedes-Maybach Exelero\n",
              "13                                    2005\n",
              "14                     5.5L Twin-Turbo V12\n",
              "15                                  550 hp\n",
              "16                                 217 mph\n",
              "17                                      8 \n",
              "18                     Pagani Huayra Imola\n",
              "19                                    2019\n",
              "20                                6.0L V12\n",
              "21                                  827 hp\n",
              "22                                 238 mph\n",
              "23                                    5.4 \n",
              "24                           McLaren P1 LM\n",
              "25                                    2013\n",
              "26        3.8L twin-turbocharged M838TQ V8\n",
              "27                                 1000 hp\n",
              "28                                 147 mph\n",
              "29                                    3.6 \n",
              "30           Bugatti Veyron Mansory Vivere\n",
              "31                                    2005\n",
              "32                                    8.0L\n",
              "33                                 1200 hp\n",
              "34                                 253 mph\n",
              "35                                    3.4 \n",
              "36                           Pagani Huayra\n",
              "37                                    2012\n",
              "38  370 cu in (6.0L) AMG bi-turbo M158 V12\n",
              "39                                  790 hp\n",
              "40                                 230 mph\n",
              "41                                    2.8 "
            ]
          },
          "metadata": {},
          "execution_count": 115
        }
      ]
    },
    {
      "cell_type": "code",
      "metadata": {
        "id": "W5uNU2yB8G1b"
      },
      "source": [
        "df1= df1.drop(index = [9,10,11,13,14,15,16,17,19,20,21,22,25,26,27,28,31,32,33,34,35,37,38,39,40,41])"
      ],
      "execution_count": null,
      "outputs": []
    },
    {
      "cell_type": "code",
      "metadata": {
        "colab": {
          "base_uri": "https://localhost:8080/",
          "height": 545
        },
        "id": "-T2Q9VEk8LkE",
        "outputId": "4999c8a9-cff1-48a8-8687-07e217b2b634"
      },
      "source": [
        "df1"
      ],
      "execution_count": null,
      "outputs": [
        {
          "output_type": "execute_result",
          "data": {
            "text/html": [
              "<div>\n",
              "<style scoped>\n",
              "    .dataframe tbody tr th:only-of-type {\n",
              "        vertical-align: middle;\n",
              "    }\n",
              "\n",
              "    .dataframe tbody tr th {\n",
              "        vertical-align: top;\n",
              "    }\n",
              "\n",
              "    .dataframe thead th {\n",
              "        text-align: right;\n",
              "    }\n",
              "</style>\n",
              "<table border=\"1\" class=\"dataframe\">\n",
              "  <thead>\n",
              "    <tr style=\"text-align: right;\">\n",
              "      <th></th>\n",
              "      <th>0</th>\n",
              "    </tr>\n",
              "  </thead>\n",
              "  <tbody>\n",
              "    <tr>\n",
              "      <th>0</th>\n",
              "      <td>Bugatti La Voiture Noire</td>\n",
              "    </tr>\n",
              "    <tr>\n",
              "      <th>1</th>\n",
              "      <td>2019</td>\n",
              "    </tr>\n",
              "    <tr>\n",
              "      <th>2</th>\n",
              "      <td>8.0 L W16</td>\n",
              "    </tr>\n",
              "    <tr>\n",
              "      <th>3</th>\n",
              "      <td>1500 hp</td>\n",
              "    </tr>\n",
              "    <tr>\n",
              "      <th>4</th>\n",
              "      <td>261 mph</td>\n",
              "    </tr>\n",
              "    <tr>\n",
              "      <th>5</th>\n",
              "      <td>19</td>\n",
              "    </tr>\n",
              "    <tr>\n",
              "      <th>6</th>\n",
              "      <td>Rolls Royce Sweptails</td>\n",
              "    </tr>\n",
              "    <tr>\n",
              "      <th>7</th>\n",
              "      <td>2017</td>\n",
              "    </tr>\n",
              "    <tr>\n",
              "      <th>8</th>\n",
              "      <td>6.75L V12</td>\n",
              "    </tr>\n",
              "    <tr>\n",
              "      <th>12</th>\n",
              "      <td>Mercedes-Maybach Exelero</td>\n",
              "    </tr>\n",
              "    <tr>\n",
              "      <th>18</th>\n",
              "      <td>Pagani Huayra Imola</td>\n",
              "    </tr>\n",
              "    <tr>\n",
              "      <th>23</th>\n",
              "      <td>5.4</td>\n",
              "    </tr>\n",
              "    <tr>\n",
              "      <th>24</th>\n",
              "      <td>McLaren P1 LM</td>\n",
              "    </tr>\n",
              "    <tr>\n",
              "      <th>29</th>\n",
              "      <td>3.6</td>\n",
              "    </tr>\n",
              "    <tr>\n",
              "      <th>30</th>\n",
              "      <td>Bugatti Veyron Mansory Vivere</td>\n",
              "    </tr>\n",
              "    <tr>\n",
              "      <th>36</th>\n",
              "      <td>Pagani Huayra</td>\n",
              "    </tr>\n",
              "  </tbody>\n",
              "</table>\n",
              "</div>"
            ],
            "text/plain": [
              "                                 0\n",
              "0         Bugatti La Voiture Noire\n",
              "1                             2019\n",
              "2                        8.0 L W16\n",
              "3                          1500 hp\n",
              "4                          261 mph\n",
              "5                              19 \n",
              "6            Rolls Royce Sweptails\n",
              "7                             2017\n",
              "8                        6.75L V12\n",
              "12        Mercedes-Maybach Exelero\n",
              "18             Pagani Huayra Imola\n",
              "23                            5.4 \n",
              "24                   McLaren P1 LM\n",
              "29                            3.6 \n",
              "30   Bugatti Veyron Mansory Vivere\n",
              "36                   Pagani Huayra"
            ]
          },
          "metadata": {},
          "execution_count": 117
        }
      ]
    },
    {
      "cell_type": "code",
      "metadata": {
        "id": "C-OvPIbO8PVT"
      },
      "source": [
        "df1= df1.drop(index = [1,2,3,4,5,7,8,23,29])"
      ],
      "execution_count": null,
      "outputs": []
    },
    {
      "cell_type": "code",
      "metadata": {
        "colab": {
          "base_uri": "https://localhost:8080/",
          "height": 266
        },
        "id": "8yxeoOqf8YCk",
        "outputId": "dc7ec0ba-11db-4a1b-818e-9d61a5edf777"
      },
      "source": [
        "df1"
      ],
      "execution_count": null,
      "outputs": [
        {
          "output_type": "execute_result",
          "data": {
            "text/html": [
              "<div>\n",
              "<style scoped>\n",
              "    .dataframe tbody tr th:only-of-type {\n",
              "        vertical-align: middle;\n",
              "    }\n",
              "\n",
              "    .dataframe tbody tr th {\n",
              "        vertical-align: top;\n",
              "    }\n",
              "\n",
              "    .dataframe thead th {\n",
              "        text-align: right;\n",
              "    }\n",
              "</style>\n",
              "<table border=\"1\" class=\"dataframe\">\n",
              "  <thead>\n",
              "    <tr style=\"text-align: right;\">\n",
              "      <th></th>\n",
              "      <th>0</th>\n",
              "    </tr>\n",
              "  </thead>\n",
              "  <tbody>\n",
              "    <tr>\n",
              "      <th>0</th>\n",
              "      <td>Bugatti La Voiture Noire</td>\n",
              "    </tr>\n",
              "    <tr>\n",
              "      <th>6</th>\n",
              "      <td>Rolls Royce Sweptails</td>\n",
              "    </tr>\n",
              "    <tr>\n",
              "      <th>12</th>\n",
              "      <td>Mercedes-Maybach Exelero</td>\n",
              "    </tr>\n",
              "    <tr>\n",
              "      <th>18</th>\n",
              "      <td>Pagani Huayra Imola</td>\n",
              "    </tr>\n",
              "    <tr>\n",
              "      <th>24</th>\n",
              "      <td>McLaren P1 LM</td>\n",
              "    </tr>\n",
              "    <tr>\n",
              "      <th>30</th>\n",
              "      <td>Bugatti Veyron Mansory Vivere</td>\n",
              "    </tr>\n",
              "    <tr>\n",
              "      <th>36</th>\n",
              "      <td>Pagani Huayra</td>\n",
              "    </tr>\n",
              "  </tbody>\n",
              "</table>\n",
              "</div>"
            ],
            "text/plain": [
              "                                 0\n",
              "0         Bugatti La Voiture Noire\n",
              "6            Rolls Royce Sweptails\n",
              "12        Mercedes-Maybach Exelero\n",
              "18             Pagani Huayra Imola\n",
              "24                   McLaren P1 LM\n",
              "30   Bugatti Veyron Mansory Vivere\n",
              "36                   Pagani Huayra"
            ]
          },
          "metadata": {},
          "execution_count": 119
        }
      ]
    },
    {
      "cell_type": "code",
      "metadata": {
        "id": "09blDskbHVSd"
      },
      "source": [
        "df1=df1.reset_index(drop=True)"
      ],
      "execution_count": null,
      "outputs": []
    },
    {
      "cell_type": "code",
      "metadata": {
        "colab": {
          "base_uri": "https://localhost:8080/",
          "height": 266
        },
        "id": "E1GQ8GAgHvAM",
        "outputId": "f9e38a2a-cae8-4c92-fa8a-ef0892ac3911"
      },
      "source": [
        "df1"
      ],
      "execution_count": null,
      "outputs": [
        {
          "output_type": "execute_result",
          "data": {
            "text/html": [
              "<div>\n",
              "<style scoped>\n",
              "    .dataframe tbody tr th:only-of-type {\n",
              "        vertical-align: middle;\n",
              "    }\n",
              "\n",
              "    .dataframe tbody tr th {\n",
              "        vertical-align: top;\n",
              "    }\n",
              "\n",
              "    .dataframe thead th {\n",
              "        text-align: right;\n",
              "    }\n",
              "</style>\n",
              "<table border=\"1\" class=\"dataframe\">\n",
              "  <thead>\n",
              "    <tr style=\"text-align: right;\">\n",
              "      <th></th>\n",
              "      <th>0</th>\n",
              "    </tr>\n",
              "  </thead>\n",
              "  <tbody>\n",
              "    <tr>\n",
              "      <th>0</th>\n",
              "      <td>Bugatti La Voiture Noire</td>\n",
              "    </tr>\n",
              "    <tr>\n",
              "      <th>1</th>\n",
              "      <td>Rolls Royce Sweptails</td>\n",
              "    </tr>\n",
              "    <tr>\n",
              "      <th>2</th>\n",
              "      <td>Mercedes-Maybach Exelero</td>\n",
              "    </tr>\n",
              "    <tr>\n",
              "      <th>3</th>\n",
              "      <td>Pagani Huayra Imola</td>\n",
              "    </tr>\n",
              "    <tr>\n",
              "      <th>4</th>\n",
              "      <td>McLaren P1 LM</td>\n",
              "    </tr>\n",
              "    <tr>\n",
              "      <th>5</th>\n",
              "      <td>Bugatti Veyron Mansory Vivere</td>\n",
              "    </tr>\n",
              "    <tr>\n",
              "      <th>6</th>\n",
              "      <td>Pagani Huayra</td>\n",
              "    </tr>\n",
              "  </tbody>\n",
              "</table>\n",
              "</div>"
            ],
            "text/plain": [
              "                                0\n",
              "0        Bugatti La Voiture Noire\n",
              "1           Rolls Royce Sweptails\n",
              "2        Mercedes-Maybach Exelero\n",
              "3             Pagani Huayra Imola\n",
              "4                   McLaren P1 LM\n",
              "5   Bugatti Veyron Mansory Vivere\n",
              "6                   Pagani Huayra"
            ]
          },
          "metadata": {},
          "execution_count": 150
        }
      ]
    },
    {
      "cell_type": "code",
      "metadata": {
        "id": "5a3vK0G58gcG"
      },
      "source": [
        "df=pd.DataFrame([values_list]).T"
      ],
      "execution_count": null,
      "outputs": []
    },
    {
      "cell_type": "code",
      "metadata": {
        "id": "1oV90N2MLCu2",
        "colab": {
          "base_uri": "https://localhost:8080/",
          "height": 266
        },
        "outputId": "fa4c1086-4614-4683-d7d7-2cffac7ca937"
      },
      "source": [
        "df"
      ],
      "execution_count": null,
      "outputs": [
        {
          "output_type": "execute_result",
          "data": {
            "text/html": [
              "<div>\n",
              "<style scoped>\n",
              "    .dataframe tbody tr th:only-of-type {\n",
              "        vertical-align: middle;\n",
              "    }\n",
              "\n",
              "    .dataframe tbody tr th {\n",
              "        vertical-align: top;\n",
              "    }\n",
              "\n",
              "    .dataframe thead th {\n",
              "        text-align: right;\n",
              "    }\n",
              "</style>\n",
              "<table border=\"1\" class=\"dataframe\">\n",
              "  <thead>\n",
              "    <tr style=\"text-align: right;\">\n",
              "      <th></th>\n",
              "      <th>0</th>\n",
              "    </tr>\n",
              "  </thead>\n",
              "  <tbody>\n",
              "    <tr>\n",
              "      <th>0</th>\n",
              "      <td>19</td>\n",
              "    </tr>\n",
              "    <tr>\n",
              "      <th>1</th>\n",
              "      <td>13</td>\n",
              "    </tr>\n",
              "    <tr>\n",
              "      <th>2</th>\n",
              "      <td>8</td>\n",
              "    </tr>\n",
              "    <tr>\n",
              "      <th>3</th>\n",
              "      <td>5.4</td>\n",
              "    </tr>\n",
              "    <tr>\n",
              "      <th>4</th>\n",
              "      <td>3.6</td>\n",
              "    </tr>\n",
              "    <tr>\n",
              "      <th>5</th>\n",
              "      <td>3.4</td>\n",
              "    </tr>\n",
              "    <tr>\n",
              "      <th>6</th>\n",
              "      <td>2.8</td>\n",
              "    </tr>\n",
              "  </tbody>\n",
              "</table>\n",
              "</div>"
            ],
            "text/plain": [
              "      0\n",
              "0   19 \n",
              "1   13 \n",
              "2    8 \n",
              "3  5.4 \n",
              "4  3.6 \n",
              "5  3.4 \n",
              "6  2.8 "
            ]
          },
          "metadata": {},
          "execution_count": 143
        }
      ]
    },
    {
      "cell_type": "code",
      "metadata": {
        "id": "aHkBSObUGl53"
      },
      "source": [
        "my_df=pd.concat([df1,df], axis=1)"
      ],
      "execution_count": null,
      "outputs": []
    },
    {
      "cell_type": "code",
      "metadata": {
        "colab": {
          "base_uri": "https://localhost:8080/",
          "height": 266
        },
        "id": "c-t7SnzqH-P8",
        "outputId": "2fc985f1-f431-4a0c-dd34-60ac7f6e18bf"
      },
      "source": [
        "my_df"
      ],
      "execution_count": null,
      "outputs": [
        {
          "output_type": "execute_result",
          "data": {
            "text/html": [
              "<div>\n",
              "<style scoped>\n",
              "    .dataframe tbody tr th:only-of-type {\n",
              "        vertical-align: middle;\n",
              "    }\n",
              "\n",
              "    .dataframe tbody tr th {\n",
              "        vertical-align: top;\n",
              "    }\n",
              "\n",
              "    .dataframe thead th {\n",
              "        text-align: right;\n",
              "    }\n",
              "</style>\n",
              "<table border=\"1\" class=\"dataframe\">\n",
              "  <thead>\n",
              "    <tr style=\"text-align: right;\">\n",
              "      <th></th>\n",
              "      <th>0</th>\n",
              "      <th>0</th>\n",
              "    </tr>\n",
              "  </thead>\n",
              "  <tbody>\n",
              "    <tr>\n",
              "      <th>0</th>\n",
              "      <td>Bugatti La Voiture Noire</td>\n",
              "      <td>19</td>\n",
              "    </tr>\n",
              "    <tr>\n",
              "      <th>1</th>\n",
              "      <td>Rolls Royce Sweptails</td>\n",
              "      <td>13</td>\n",
              "    </tr>\n",
              "    <tr>\n",
              "      <th>2</th>\n",
              "      <td>Mercedes-Maybach Exelero</td>\n",
              "      <td>8</td>\n",
              "    </tr>\n",
              "    <tr>\n",
              "      <th>3</th>\n",
              "      <td>Pagani Huayra Imola</td>\n",
              "      <td>5.4</td>\n",
              "    </tr>\n",
              "    <tr>\n",
              "      <th>4</th>\n",
              "      <td>McLaren P1 LM</td>\n",
              "      <td>3.6</td>\n",
              "    </tr>\n",
              "    <tr>\n",
              "      <th>5</th>\n",
              "      <td>Bugatti Veyron Mansory Vivere</td>\n",
              "      <td>3.4</td>\n",
              "    </tr>\n",
              "    <tr>\n",
              "      <th>6</th>\n",
              "      <td>Pagani Huayra</td>\n",
              "      <td>2.8</td>\n",
              "    </tr>\n",
              "  </tbody>\n",
              "</table>\n",
              "</div>"
            ],
            "text/plain": [
              "                                0     0\n",
              "0        Bugatti La Voiture Noire   19 \n",
              "1           Rolls Royce Sweptails   13 \n",
              "2        Mercedes-Maybach Exelero    8 \n",
              "3             Pagani Huayra Imola  5.4 \n",
              "4                   McLaren P1 LM  3.6 \n",
              "5   Bugatti Veyron Mansory Vivere  3.4 \n",
              "6                   Pagani Huayra  2.8 "
            ]
          },
          "metadata": {},
          "execution_count": 154
        }
      ]
    },
    {
      "cell_type": "code",
      "metadata": {
        "id": "SZneB0MPIaFj"
      },
      "source": [
        "my_df.columns=['Car Name','Price in millions']"
      ],
      "execution_count": null,
      "outputs": []
    },
    {
      "cell_type": "code",
      "metadata": {
        "colab": {
          "base_uri": "https://localhost:8080/",
          "height": 266
        },
        "id": "Y5HZZay8I53F",
        "outputId": "eb01c189-43bf-405e-a151-971a629f1637"
      },
      "source": [
        "my_df"
      ],
      "execution_count": null,
      "outputs": [
        {
          "output_type": "execute_result",
          "data": {
            "text/html": [
              "<div>\n",
              "<style scoped>\n",
              "    .dataframe tbody tr th:only-of-type {\n",
              "        vertical-align: middle;\n",
              "    }\n",
              "\n",
              "    .dataframe tbody tr th {\n",
              "        vertical-align: top;\n",
              "    }\n",
              "\n",
              "    .dataframe thead th {\n",
              "        text-align: right;\n",
              "    }\n",
              "</style>\n",
              "<table border=\"1\" class=\"dataframe\">\n",
              "  <thead>\n",
              "    <tr style=\"text-align: right;\">\n",
              "      <th></th>\n",
              "      <th>Car Name</th>\n",
              "      <th>Price in millions</th>\n",
              "    </tr>\n",
              "  </thead>\n",
              "  <tbody>\n",
              "    <tr>\n",
              "      <th>0</th>\n",
              "      <td>Bugatti La Voiture Noire</td>\n",
              "      <td>19</td>\n",
              "    </tr>\n",
              "    <tr>\n",
              "      <th>1</th>\n",
              "      <td>Rolls Royce Sweptails</td>\n",
              "      <td>13</td>\n",
              "    </tr>\n",
              "    <tr>\n",
              "      <th>2</th>\n",
              "      <td>Mercedes-Maybach Exelero</td>\n",
              "      <td>8</td>\n",
              "    </tr>\n",
              "    <tr>\n",
              "      <th>3</th>\n",
              "      <td>Pagani Huayra Imola</td>\n",
              "      <td>5.4</td>\n",
              "    </tr>\n",
              "    <tr>\n",
              "      <th>4</th>\n",
              "      <td>McLaren P1 LM</td>\n",
              "      <td>3.6</td>\n",
              "    </tr>\n",
              "    <tr>\n",
              "      <th>5</th>\n",
              "      <td>Bugatti Veyron Mansory Vivere</td>\n",
              "      <td>3.4</td>\n",
              "    </tr>\n",
              "    <tr>\n",
              "      <th>6</th>\n",
              "      <td>Pagani Huayra</td>\n",
              "      <td>2.8</td>\n",
              "    </tr>\n",
              "  </tbody>\n",
              "</table>\n",
              "</div>"
            ],
            "text/plain": [
              "                         Car Name Price in millions\n",
              "0        Bugatti La Voiture Noire               19 \n",
              "1           Rolls Royce Sweptails               13 \n",
              "2        Mercedes-Maybach Exelero                8 \n",
              "3             Pagani Huayra Imola              5.4 \n",
              "4                   McLaren P1 LM              3.6 \n",
              "5   Bugatti Veyron Mansory Vivere              3.4 \n",
              "6                   Pagani Huayra              2.8 "
            ]
          },
          "metadata": {},
          "execution_count": 157
        }
      ]
    },
    {
      "cell_type": "code",
      "metadata": {
        "id": "QWOEAmw2I7AN"
      },
      "source": [
        "my_df.to_csv('myscrapingdata.csv')"
      ],
      "execution_count": null,
      "outputs": []
    }
  ]
}